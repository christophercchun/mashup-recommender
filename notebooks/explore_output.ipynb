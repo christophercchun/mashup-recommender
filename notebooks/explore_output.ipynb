{
 "cells": [
  {
   "cell_type": "code",
   "execution_count": 1,
   "metadata": {},
   "outputs": [],
   "source": [
    "import pandas as pd\n",
    "import numpy as np"
   ]
  },
  {
   "cell_type": "code",
   "execution_count": 13,
   "metadata": {},
   "outputs": [],
   "source": [
    "distances = pd.read_csv(\"/Users/briancai/Drive/NU/DJ_recommender/mashup-recommender/output/distances_2020-06-19.csv\")"
   ]
  },
  {
   "cell_type": "code",
   "execution_count": 14,
   "metadata": {},
   "outputs": [
    {
     "data": {
      "text/html": [
       "<div>\n",
       "<style scoped>\n",
       "    .dataframe tbody tr th:only-of-type {\n",
       "        vertical-align: middle;\n",
       "    }\n",
       "\n",
       "    .dataframe tbody tr th {\n",
       "        vertical-align: top;\n",
       "    }\n",
       "\n",
       "    .dataframe thead th {\n",
       "        text-align: right;\n",
       "    }\n",
       "</style>\n",
       "<table border=\"1\" class=\"dataframe\">\n",
       "  <thead>\n",
       "    <tr style=\"text-align: right;\">\n",
       "      <th></th>\n",
       "      <th>track_x</th>\n",
       "      <th>track_y</th>\n",
       "      <th>dist</th>\n",
       "      <th>bpm_inc</th>\n",
       "    </tr>\n",
       "  </thead>\n",
       "  <tbody>\n",
       "    <tr>\n",
       "      <th>0</th>\n",
       "      <td>Disclosure - When A Fire Starts To Burn.mp3</td>\n",
       "      <td>What So Not - Goh (AC Slater Remix).mp3</td>\n",
       "      <td>0.007910</td>\n",
       "      <td>0.042366</td>\n",
       "    </tr>\n",
       "    <tr>\n",
       "      <th>1</th>\n",
       "      <td>What So Not - Goh (AC Slater Remix).mp3</td>\n",
       "      <td>Disclosure - When A Fire Starts To Burn.mp3</td>\n",
       "      <td>0.007910</td>\n",
       "      <td>0.042366</td>\n",
       "    </tr>\n",
       "    <tr>\n",
       "      <th>2</th>\n",
       "      <td>Justice - D.A.N.C.E.mp3</td>\n",
       "      <td>Backstreet Boys - I Want It That Way.mp3</td>\n",
       "      <td>0.009291</td>\n",
       "      <td>0.141208</td>\n",
       "    </tr>\n",
       "    <tr>\n",
       "      <th>3</th>\n",
       "      <td>Backstreet Boys - I Want It That Way.mp3</td>\n",
       "      <td>Justice - D.A.N.C.E.mp3</td>\n",
       "      <td>0.009291</td>\n",
       "      <td>0.141208</td>\n",
       "    </tr>\n",
       "    <tr>\n",
       "      <th>4</th>\n",
       "      <td>Dillon Francis - Need You.mp3</td>\n",
       "      <td>J Balvin - Mi Gente.mp3</td>\n",
       "      <td>0.009652</td>\n",
       "      <td>0.066712</td>\n",
       "    </tr>\n",
       "  </tbody>\n",
       "</table>\n",
       "</div>"
      ],
      "text/plain": [
       "                                       track_x  \\\n",
       "0  Disclosure - When A Fire Starts To Burn.mp3   \n",
       "1      What So Not - Goh (AC Slater Remix).mp3   \n",
       "2                      Justice - D.A.N.C.E.mp3   \n",
       "3     Backstreet Boys - I Want It That Way.mp3   \n",
       "4                Dillon Francis - Need You.mp3   \n",
       "\n",
       "                                       track_y      dist   bpm_inc  \n",
       "0      What So Not - Goh (AC Slater Remix).mp3  0.007910  0.042366  \n",
       "1  Disclosure - When A Fire Starts To Burn.mp3  0.007910  0.042366  \n",
       "2     Backstreet Boys - I Want It That Way.mp3  0.009291  0.141208  \n",
       "3                      Justice - D.A.N.C.E.mp3  0.009291  0.141208  \n",
       "4                      J Balvin - Mi Gente.mp3  0.009652  0.066712  "
      ]
     },
     "execution_count": 14,
     "metadata": {},
     "output_type": "execute_result"
    }
   ],
   "source": [
    "distances.head()"
   ]
  },
  {
   "cell_type": "code",
   "execution_count": 15,
   "metadata": {},
   "outputs": [],
   "source": [
    "distances.columns = [\"Track x\", \"Track y\", \"Harmonic distance\", \"BPM increase\"]"
   ]
  },
  {
   "cell_type": "code",
   "execution_count": 18,
   "metadata": {},
   "outputs": [],
   "source": [
    "distinct_dist = distances.sort_values(by = 'Harmonic distance').loc[[i for i in range(0, len(distances),2)]]"
   ]
  },
  {
   "cell_type": "code",
   "execution_count": 20,
   "metadata": {},
   "outputs": [],
   "source": [
    "distinct_dist.to_csv(\"distinct_dist.csv\", index = False)"
   ]
  },
  {
   "cell_type": "code",
   "execution_count": null,
   "metadata": {},
   "outputs": [],
   "source": []
  }
 ],
 "metadata": {
  "kernelspec": {
   "display_name": "Python 3",
   "language": "python",
   "name": "python3"
  },
  "language_info": {
   "codemirror_mode": {
    "name": "ipython",
    "version": 3
   },
   "file_extension": ".py",
   "mimetype": "text/x-python",
   "name": "python",
   "nbconvert_exporter": "python",
   "pygments_lexer": "ipython3",
   "version": "3.7.3"
  },
  "toc": {
   "base_numbering": 1,
   "nav_menu": {},
   "number_sections": true,
   "sideBar": true,
   "skip_h1_title": false,
   "title_cell": "Table of Contents",
   "title_sidebar": "Contents",
   "toc_cell": false,
   "toc_position": {},
   "toc_section_display": true,
   "toc_window_display": false
  },
  "varInspector": {
   "cols": {
    "lenName": 16,
    "lenType": 16,
    "lenVar": 40
   },
   "kernels_config": {
    "python": {
     "delete_cmd_postfix": "",
     "delete_cmd_prefix": "del ",
     "library": "var_list.py",
     "varRefreshCmd": "print(var_dic_list())"
    },
    "r": {
     "delete_cmd_postfix": ") ",
     "delete_cmd_prefix": "rm(",
     "library": "var_list.r",
     "varRefreshCmd": "cat(var_dic_list()) "
    }
   },
   "types_to_exclude": [
    "module",
    "function",
    "builtin_function_or_method",
    "instance",
    "_Feature"
   ],
   "window_display": false
  }
 },
 "nbformat": 4,
 "nbformat_minor": 4
}
